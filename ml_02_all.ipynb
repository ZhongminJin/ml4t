{
 "cells": [
  {
   "cell_type": "markdown",
   "metadata": {},
   "source": [
    "## How should we allocate assets across a portfolio?\n",
    "     \n",
    "Formalizing risk: standard deviation of returns\n",
    "\n",
    "Previously, would just just have the weighted average of return and risk however, is there a better way? Yes, by taking covariance of return between stocks into account\n",
    "\n",
    "Covariance and stocks: Can combine assets with opposing covariances to reduce the overall volatility of the portfolio\n",
    "\n",
    "#### Mean-Variance Optimization: \n",
    "\n",
    "Given a set of equities and a target return, find an allocation to each equity that minimizes overall risk in portfolio\n",
    "- Inputs to MV Optimizer:\n",
    "    1. expected return for each stock\n",
    "    2. volatility associated with each stock\n",
    "    3. covariance of each stock with all other stocks\n",
    "    4. target return of the overall portfolio\n",
    "- Output: asset weights for target return that minimizes risk\n",
    "\n",
    "#### Efficient frontier:\n",
    "- For any particular return level, there is an optimal portfolio via MVO\n",
    "- Can compute this for all potential levels between min and max return\n",
    "- Results in an efficient frontier that defines the pareto curve between risk and return\n",
    "\n",
    " "
   ]
  },
  {
   "cell_type": "code",
   "execution_count": 1,
   "metadata": {
    "collapsed": false
   },
   "outputs": [
    {
     "ename": "SyntaxError",
     "evalue": "invalid syntax (<ipython-input-1-35700964b82a>, line 1)",
     "output_type": "error",
     "traceback": [
      "\u001b[0;36m  File \u001b[0;32m\"<ipython-input-1-35700964b82a>\"\u001b[0;36m, line \u001b[0;32m1\u001b[0m\n\u001b[0;31m    Try to build a mean-variance optimizer\u001b[0m\n\u001b[0m         ^\u001b[0m\n\u001b[0;31mSyntaxError\u001b[0m\u001b[0;31m:\u001b[0m invalid syntax\n"
     ]
    }
   ],
   "source": [
    "#Try to build a mean-variance optimizer"
   ]
  },
  {
   "cell_type": "code",
   "execution_count": null,
   "metadata": {
    "collapsed": true
   },
   "outputs": [],
   "source": []
  }
 ],
 "metadata": {
  "kernelspec": {
   "display_name": "Python 2",
   "language": "python",
   "name": "python2"
  },
  "language_info": {
   "codemirror_mode": {
    "name": "ipython",
    "version": 2
   },
   "file_extension": ".py",
   "mimetype": "text/x-python",
   "name": "python",
   "nbconvert_exporter": "python",
   "pygments_lexer": "ipython2",
   "version": "2.7.11"
  }
 },
 "nbformat": 4,
 "nbformat_minor": 0
}

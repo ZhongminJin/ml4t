{
 "cells": [
  {
   "cell_type": "code",
   "execution_count": 31,
   "metadata": {
    "collapsed": false
   },
   "outputs": [],
   "source": [
    "import scipy as sp\n",
    "from scipy import stats\n",
    "from ml_utilityfunc import *\n",
    "\n",
    "class LinRegLearner:\n",
    "    def __init__(self): \n",
    "        pass\n",
    "        \n",
    "    def train(self,X,Y):\n",
    "        # fit a line to the data\n",
    "        # find an m and a b --> parameters of linear model\n",
    "        output = stats.linregress(X,Y) # use algo you want from SciPy and Numpy\n",
    "        self.m = output.slope\n",
    "        self.b = output.intercept\n",
    "        \n",
    "    def query(self,X):\n",
    "        Y = self.m*X + self.b\n",
    "        return Y"
   ]
  },
  {
   "cell_type": "code",
   "execution_count": 42,
   "metadata": {
    "collapsed": true
   },
   "outputs": [],
   "source": [
    "def test_run():\n",
    "    # initialize training data\n",
    "    start_datet = '2009-01-01'\n",
    "    end_datet = '12-31-2010'\n",
    "    datest = pd.date_range(start_datet,end_datet)\n",
    "    symbols = ['SPY','XOM']\n",
    "    df_train = get_data(symbols, datest, dropna=True)\n",
    "    \n",
    "    pred_win = 150\n",
    "    learner = LinRegLearner()\n",
    "    learner.train(df_train['XOM'][:-pred_win],df_train['SPY'][pred_win:])\n",
    "    \n",
    "    start_date = '2011-01-01'\n",
    "    end_date = '12-31-2012'\n",
    "    \n",
    "    dates = pd.date_range(start_datet,end_datet)\n",
    "    df_test = get_data(symbols, dates, dropna=True)\n",
    "    \n",
    "    ypredict = learner.query(df_test['XOM'][:-pred_win])\n",
    "    \n",
    "    plt.plot(ypredict,df_test['SPY'][pred_win:],'k.')\n",
    "    print np.corrcoef(ypredict,df_test['SPY'][pred_win:])\n",
    "    "
   ]
  },
  {
   "cell_type": "code",
   "execution_count": 43,
   "metadata": {
    "collapsed": false
   },
   "outputs": [
    {
     "name": "stdout",
     "output_type": "stream",
     "text": [
      "[[ 1.          0.51188689]\n",
      " [ 0.51188689  1.        ]]\n"
     ]
    },
    {
     "data": {
      "image/png": "[encoded data removed]",
      "text/plain": [
       "<matplotlib.figure.Figure at 0x10b2e00d0>"
      ]
     },
     "metadata": {},
     "output_type": "display_data"
    }
   ],
   "source": [
    "test_run()"
   ]
  },
  {
   "cell_type": "code",
   "execution_count": null,
   "metadata": {
    "collapsed": true
   },
   "outputs": [],
   "source": []
  }
 ],
 "metadata": {
  "kernelspec": {
   "display_name": "Python 2",
   "language": "python",
   "name": "python2"
  },
  "language_info": {
   "codemirror_mode": {
    "name": "ipython",
    "version": 2
   },
   "file_extension": ".py",
   "mimetype": "text/x-python",
   "name": "python",
   "nbconvert_exporter": "python",
   "pygments_lexer": "ipython2",
   "version": "2.7.11"
  }
 },
 "nbformat": 4,
 "nbformat_minor": 0
}

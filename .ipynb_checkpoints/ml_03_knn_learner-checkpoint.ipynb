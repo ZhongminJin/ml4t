{
 "cells": [
  {
   "cell_type": "markdown",
   "metadata": {},
   "source": [
    "## k-Nearest-Neighbor Algorithm \n",
    "- developed a kNN algorithm for simple prediction of the stock price from a single feature input \n"
   ]
  },
  {
   "cell_type": "code",
   "execution_count": 15,
   "metadata": {
    "collapsed": false
   },
   "outputs": [],
   "source": [
    "import scipy as sp\n",
    "import numpy as np\n",
    "import matplotlib\n",
    "import math\n",
    "\n",
    "from ml_utilityfunc import *\n",
    "\n",
    "class kNNLearner:\n",
    "    def __init__(self,k): \n",
    "        self.k = k\n",
    "        \n",
    "    def train(self,X,Y):\n",
    "        # fit a line to the data\n",
    "        # find an m and a b --> parameters of linear model\n",
    "        # self.m, self.b, intercept,rvalue,pvalue,stderr = sp.stats.linregress(X,Y) # use algo you want from SciPy and Numpy\n",
    "        self.xt = X\n",
    "        self.yt = Y\n",
    "        \n",
    "    def query(self,X):\n",
    "        y_pred = []\n",
    "        for Xt in X:\n",
    "            kNN_indx = np.argsort(get_distance(Xt,self.xt))[:self.k]\n",
    "            y_pred.append(np.average(self.yt[kNN_indx]))\n",
    "        return y_pred"
   ]
  },
  {
   "cell_type": "code",
   "execution_count": 36,
   "metadata": {
    "collapsed": false
   },
   "outputs": [],
   "source": [
    "def test_run():\n",
    "    # initialize training data\n",
    "    start_datet = '2011-01-01'\n",
    "    end_datet = '12-31-2013'\n",
    "    datest = pd.date_range(start_datet,end_datet)\n",
    "    symbols = ['SPY','GOOG']\n",
    "    df_train = get_data(symbols, datest, dropna=True)\n",
    "    \n",
    "    pred_win = 5\n",
    "    learner = kNNLearner(k=pred_win)\n",
    "    learner.train(df_train['GOOG'][:-pred_win],df_train['SPY'][pred_win:])\n",
    "    \n",
    "    start_date = '2014-01-01'\n",
    "    end_date = '12-31-2014'\n",
    "    \n",
    "    dates = pd.date_range(start_datet,end_datet)\n",
    "    df_test = get_data(symbols, dates, dropna=True)\n",
    "    \n",
    "    ypredict = learner.query(df_test['GOOG'][:-pred_win])\n",
    "    \n",
    "    plt.plot(ypredict,df_test['SPY'][pred_win:],'k.')\n",
    "    plt.xlabel('SPY Predicted Price')\n",
    "    plt.ylabel('SPY Actual Price')\n",
    "    plt.title('SPY kNN Learner-Predictor')\n",
    "    print np.corrcoef(ypredict,df_test['SPY'][pred_win:])\n",
    "    \n",
    "    # print learner.query([704.25])"
   ]
  },
  {
   "cell_type": "code",
   "execution_count": 37,
   "metadata": {
    "collapsed": false,
    "scrolled": false
   },
   "outputs": [
    {
     "name": "stdout",
     "output_type": "stream",
     "text": [
      "[[ 1.          0.69026276]\n",
      " [ 0.69026276  1.        ]]\n",
      "[143.982]\n"
     ]
    },
    {
     "data": {
      "image/png": "[encoded data removed]",
      "text/plain": [
       "<matplotlib.figure.Figure at 0x109933710>"
      ]
     },
     "metadata": {},
     "output_type": "display_data"
    }
   ],
   "source": [
    "test_run()"
   ]
  },
  {
   "cell_type": "code",
   "execution_count": null,
   "metadata": {
    "collapsed": true
   },
   "outputs": [],
   "source": []
  }
 ],
 "metadata": {
  "kernelspec": {
   "display_name": "Python 2",
   "language": "python",
   "name": "python2"
  },
  "language_info": {
   "codemirror_mode": {
    "name": "ipython",
    "version": 2
   },
   "file_extension": ".py",
   "mimetype": "text/x-python",
   "name": "python",
   "nbconvert_exporter": "python",
   "pygments_lexer": "ipython2",
   "version": "2.7.11"
  }
 },
 "nbformat": 4,
 "nbformat_minor": 0
}

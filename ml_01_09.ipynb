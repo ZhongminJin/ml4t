{
 "cells": [
  {
   "cell_type": "code",
   "execution_count": 31,
   "metadata": {
    "collapsed": false
   },
   "outputs": [],
   "source": [
    "%matplotlib inline\n",
    "import pandas as pd\n",
    "import numpy as np\n",
    "import scipy.optimize as spo\n",
    "import scipy as sp\n",
    "import matplotlib.pyplot as plt\n",
    "import matplotlib\n",
    "import os\n",
    "import time\n",
    "\n",
    "from ml_utilityfunc import *\n",
    "\n",
    "# Portfolio optimizer:\n",
    "    # Definition:\n",
    "        # Given a set of assets and a time period, pick the set of allocations\n",
    "        # that maximize performance\n",
    "    # Performance:\n",
    "        # could be a number of metrics; cumulative return, volatility, and\n",
    "        # risk adjusted return (use Sharpe ratio)\n",
    "    # Framing:\n",
    "        # 1. objective function f(x) = -(Sharpe Ratio)\n",
    "        # 2. initial guess (x = allocations)\n",
    "        # 3. call the optimizer\n",
    "    # Ranges & Constraints:\n",
    "        # limits on values for X --> only worth looking between 0 and 1, \n",
    "        #                            where sum over abs(X) equals \n",
    "        \n",
    "def sharpe(allocs,df):\n",
    "    start_val = 1000000\n",
    "    port_val = get_portfolio_value(df,allocs,start_val)\n",
    "    daily_ret_p = get_portfolio_daily_ret(port_val)\n",
    "    SR = get_sharpe_ratio(daily_ret_p, daily_ret_p.std(), annual_rfr=0, mod=1)\n",
    "    return -1*SR\n",
    "\n",
    "def optimizer(df, sharpe):\n",
    "    allocs0 = [0.25, 0.25, 0.25, 0.25]\n",
    "    cons={'type':'eq', 'fun': con}\n",
    "    min_result = spo.minimize(sharpe,allocs0,args=df,constraints=cons,\n",
    "                              bounds=[(0,1),(0,1),(0,1),(0,1)],\n",
    "                              method='SLSQP',options={'disp':True})\n",
    "    return min_result.fun,min_result.x\n",
    "\n",
    "def con(allocs):\n",
    "    return allocs.sum()-1\n",
    "\n",
    "def gen_df():\n",
    "    # generate dataframe of portfolio inputs\n",
    "    dates = pd.date_range('2010-01-01','2010-12-31')\n",
    "    start_val = 1000000\n",
    "    symbols = ['GOOG','AAPL','GLD','XOM']\n",
    "    allocs = [0.25, 0.25, 0.25, 0.25]\n",
    "    df = get_data(symbols, dates, dropna=True)\n",
    "    \n",
    "    max_sharpe,allocs_min = optimizer(df,sharpe)\n",
    "    allocs_min = allocs_min.round(1)\n",
    "    dictn = dict(zip(symbols,allocs_min))\n",
    "    \n",
    "    print \"\\nOptimal Portfolio:\\n\", \"Sharpe Ratio = {}\".format(max_sharpe)\n",
    "    print \"Optimal Allocations = \", dictn\n",
    "        "
   ]
  },
  {
   "cell_type": "code",
   "execution_count": 32,
   "metadata": {
    "collapsed": false
   },
   "outputs": [
    {
     "name": "stdout",
     "output_type": "stream",
     "text": [
      "Optimization terminated successfully.    (Exit mode 0)\n",
      "            Current function value: -2.00401501099\n",
      "            Iterations: 6\n",
      "            Function evaluations: 36\n",
      "            Gradient evaluations: 6\n",
      "\n",
      "Optimal Portfolio:\n",
      "Sharpe Ratio = -2.00401501099\n",
      "Optimal Allocations =  {'GOOG': 0.0, 'AAPL': 0.40000000000000002, 'XOM': 0.0, 'GLD': 0.59999999999999998}\n"
     ]
    }
   ],
   "source": [
    "gen_df()"
   ]
  },
  {
   "cell_type": "code",
   "execution_count": null,
   "metadata": {
    "collapsed": true
   },
   "outputs": [],
   "source": []
  },
  {
   "cell_type": "code",
   "execution_count": null,
   "metadata": {
    "collapsed": true
   },
   "outputs": [],
   "source": []
  },
  {
   "cell_type": "code",
   "execution_count": null,
   "metadata": {
    "collapsed": true
   },
   "outputs": [],
   "source": []
  }
 ],
 "metadata": {
  "kernelspec": {
   "display_name": "Python 2",
   "language": "python",
   "name": "python2"
  },
  "language_info": {
   "codemirror_mode": {
    "name": "ipython",
    "version": 2
   },
   "file_extension": ".py",
   "mimetype": "text/x-python",
   "name": "python",
   "nbconvert_exporter": "python",
   "pygments_lexer": "ipython2",
   "version": "2.7.11"
  }
 },
 "nbformat": 4,
 "nbformat_minor": 0
}
